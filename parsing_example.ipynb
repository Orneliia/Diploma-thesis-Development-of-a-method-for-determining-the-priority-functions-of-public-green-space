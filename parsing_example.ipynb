{
 "cells": [
  {
   "cell_type": "code",
   "execution_count": null,
   "metadata": {},
   "outputs": [],
   "source": [
    "import os\n",
    "import geopandas as gpd\n",
    "import pandas as pd\n",
    "import requests\n",
    "from shapely.geometry import Point\n",
    "import time"
   ]
  },
  {
   "cell_type": "code",
   "execution_count": null,
   "metadata": {},
   "outputs": [],
   "source": [
    "zones_gdf = gpd.read_file(zones_path)"
   ]
  },
  {
   "cell_type": "code",
   "execution_count": null,
   "metadata": {},
   "outputs": [],
   "source": [
    "# Параметры\n",
    "token = \"\"\n",
    "keywords = [\"парк\", \"сад\", \"лесопарк\", \"сквер\"]\n",
    "total_required_posts_per_keyword = 1500  # Нужное количество постов для каждого ключевого слова\n",
    "count_per_request = 200  # Количество постов за один запрос\n",
    "end_time = int(time.time())\n",
    "latitude = 59.94\n",
    "longitude = 30.31\n",
    "\n",
    "all_posts = []"
   ]
  },
  {
   "cell_type": "code",
   "execution_count": null,
   "metadata": {},
   "outputs": [],
   "source": [
    "for keyword in keywords:\n",
    "    print(f\"Сбор данных для ключевого слова: {keyword}\")\n",
    "    collected_posts = []\n",
    "    current_end_time = end_time\n",
    "\n",
    "    while len(collected_posts) < total_required_posts_per_keyword:\n",
    "        # Формируем запрос\n",
    "        url = f\"https://api.vk.com/method/newsfeed.search?q={keyword}&count={count_per_request}&latitude={latitude}&longitude={longitude}&end_time={current_end_time}&access_token={token}&v=5.131\"\n",
    "        print(f\"Выполняется запрос: {url}\")\n",
    "\n",
    "        # Отправка запроса\n",
    "        response = requests.get(url)\n",
    "        data = response.json()\n",
    "\n",
    "        # Проверка ответа\n",
    "        if \"response\" in data:\n",
    "            posts = data.get('response', {}).get('items', [])\n",
    "\n",
    "            # Если постов нет, завершаем цикл для этого ключевого слова\n",
    "            if not posts:\n",
    "                print(\"Больше постов нет в указанном интервале.\")\n",
    "                break\n",
    "\n",
    "            # Фильтрация: оставляем только посты с полем 'geo', которое не равно None\n",
    "            filtered_posts = [post for post in posts if 'geo' in post and post['geo'] is not None]\n",
    "\n",
    "            # Преобразуем geo в координаты и проверяем включение в полигоны зелёных зон\n",
    "            valid_posts = []\n",
    "            for post in filtered_posts:\n",
    "                try:\n",
    "                    # Преобразуем координаты из geo\n",
    "                    lat, lon = map(float, post['geo']['coordinates'].split())\n",
    "                    point = Point(lon, lat)\n",
    "\n",
    "                    # Проверяем, находится ли точка внутри любой зоны\n",
    "                    if zones_gdf.contains(point).any():\n",
    "                        valid_posts.append(post)\n",
    "\n",
    "                except Exception as e:\n",
    "                    print(f\"Ошибка обработки координат: {e}\")\n",
    "\n",
    "            # Добавляем отфильтрованные посты к списку\n",
    "            collected_posts.extend(valid_posts)\n",
    "\n",
    "            # Обновляем end_time на время последнего поста, минус одна секунда\n",
    "            current_end_time = posts[-1][\"date\"] - 1\n",
    "\n",
    "            print(f\"Собрано постов для ключевого слова '{keyword}': {len(collected_posts)}\")\n",
    "\n",
    "        else:\n",
    "            print(\"Ошибка в запросе:\", data.get(\"error\"))\n",
    "            break\n",
    "\n",
    "        # Задержка, чтобы избежать блокировки\n",
    "        time.sleep(1)\n",
    "\n",
    "    # Добавляем собранные посты для текущего ключевого слова в общий список\n",
    "    all_posts.extend(collected_posts)"
   ]
  },
  {
   "cell_type": "code",
   "execution_count": null,
   "metadata": {},
   "outputs": [],
   "source": [
    "# Преобразование в GeoDataFrame\n",
    "df = pd.DataFrame(all_posts)\n",
    "df['latitude'] = df['geo'].apply(lambda x: float(x['coordinates'].split()[0]) if x and 'coordinates' in x else None)\n",
    "df['longitude'] = df['geo'].apply(lambda x: float(x['coordinates'].split()[1]) if x and 'coordinates' in x else None)\n",
    "df = df.dropna(subset=['latitude', 'longitude'])\n",
    "df['geometry'] = [Point(xy) for xy in zip(df['longitude'], df['latitude'])]\n",
    "gdf = gpd.GeoDataFrame(df, geometry='geometry', crs=\"EPSG:4326\")\n",
    "\n",
    "print(f\"Всего собрано постов: {len(gdf)}\")\n",
    "gdf"
   ]
  }
 ],
 "metadata": {
  "language_info": {
   "name": "python"
  }
 },
 "nbformat": 4,
 "nbformat_minor": 2
}
